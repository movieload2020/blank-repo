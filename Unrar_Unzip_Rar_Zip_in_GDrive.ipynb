{
  "nbformat": 4,
  "nbformat_minor": 0,
  "metadata": {
    "accelerator": "GPU",
    "colab": {
      "name": "Unrar_Unzip_Rar_Zip_in_GDrive.ipynb",
      "provenance": [],
      "collapsed_sections": [
        "rlX9RzFJRoW-",
        "_ipYwH3BwReD",
        "7b1a4XlGWNRy",
        "9Ch_vD4QWk0i",
        "hi4f8Ba-diVf",
        "bAls_UEYfwIX",
        "IoAshgcf45gs",
        "o1PFiGyMAMvg",
        "mOnUdLJqVaYA",
        "IzjF205BK-Wh",
        "BjYXYIk0VaYE",
        "Dm58cAVSAFbr"
      ],
      "include_colab_link": true
    },
    "kernelspec": {
      "display_name": "Python 3",
      "name": "python3"
    }
  },
  "cells": [
    {
      "cell_type": "markdown",
      "metadata": {
        "id": "view-in-github",
        "colab_type": "text"
      },
      "source": [
        "<a href=\"https://colab.research.google.com/github/movieload2020/movieload2020/blob/main/Unrar_Unzip_Rar_Zip_in_GDrive.ipynb\" target=\"_parent\"><img src=\"https://colab.research.google.com/assets/colab-badge.svg\" alt=\"Open In Colab\"/></a>"
      ]
    },
    {
      "cell_type": "markdown",
      "metadata": {
        "id": "rlX9RzFJRoW-"
      },
      "source": [
        "# **<center><font color='orange'> Compress/Decompress Files in Google Drive </font></center>**"
      ]
    },
    {
      "cell_type": "markdown",
      "metadata": {
        "id": "tdHkmd6olkGV"
      },
      "source": [
        "## **<font color=\"red\">Important note</font> - After doing all the steps, please note that depending on your file size of the Zip and Rar files, it may take a while to show up in your Google Drive. Please be patient. Eventually, it will show up in your drive.**\n",
        "###**<font color=\"red\">For larger files</font> - it may take some time to show up in your Google Drive. Do not rerun the code if it doesn't show up fast. Just keep refreshing your Google Drive page to see if it shows up**\n",
        "###**<font color=\"red\">For small files</font> - it will show up quicker in your Google Drive. Just wait until it shows up. Just keep refreshing your page to see if it shows up**\n",
        "###**<font color=\"red\">Update</font> - added some features**\n",
        "* Extract/create password protected rar files\n",
        "* Extract/create tar/tar.gz/tar/bz files\n"
      ]
    },
    {
      "cell_type": "markdown",
      "metadata": {
        "id": "CFFPQjl-iX0m"
      },
      "source": [
        "# <font color='#ff6363'>__Mount GDrive__"
      ]
    },
    {
      "cell_type": "code",
      "metadata": {
        "id": "i6c-t-1txLoU",
        "cellView": "form"
      },
      "source": [
        "#@markdown <br><center><img src='https://upload.wikimedia.org/wikipedia/commons/thumb/d/da/Google_Drive_logo.png/600px-Google_Drive_logo.png' height=\"50\" alt=\"Gdrive-logo\"/></center>\n",
        "#@markdown <center><h3>Mount GDrive to /content/drive</h3></center><br>\n",
        "MODE = \"MOUNT\" #@param [\"MOUNT\", \"UNMOUNT\"]\n",
        "#Mount your Gdrive! \n",
        "from google.colab import drive\n",
        "drive.mount._DEBUG = False\n",
        "if MODE == \"MOUNT\":\n",
        "  drive.mount('/content/drive', force_remount=True)\n",
        "elif MODE == \"UNMOUNT\":\n",
        "  try:\n",
        "    drive.flush_and_unmount()\n",
        "  except ValueError:\n",
        "    pass\n",
        "  get_ipython().system_raw(\"rm -rf /root/.config/Google/DriveFS\")"
      ],
      "execution_count": null,
      "outputs": []
    },
    {
      "cell_type": "markdown",
      "metadata": {
        "id": "jaKcUA5oYYz9"
      },
      "source": [
        "# <center><font color='red'>__•••••••••••X•••••••••••__</font></center>"
      ]
    },
    {
      "cell_type": "markdown",
      "metadata": {
        "id": "_ipYwH3BwReD"
      },
      "source": [
        "#**Count Number of files in folder**\n",
        "# Folder Exp:\n",
        "# /content/drive/MyDrive"
      ]
    },
    {
      "cell_type": "code",
      "metadata": {
        "id": "6n9_0s7AsbV2"
      },
      "source": [
        "import os\n",
        "FOLDER_PATH = input(\"Path for counting: \")\n",
        "print(\"Number of files ↓\")\n",
        "print(len(os.listdir(FOLDER_PATH)))"
      ],
      "execution_count": null,
      "outputs": []
    },
    {
      "cell_type": "markdown",
      "metadata": {
        "id": "cCotE6pJXMWB"
      },
      "source": [
        "# <center><font color='red'>__•••••••••••X•••••••••••__</font></center>"
      ]
    },
    {
      "cell_type": "markdown",
      "metadata": {
        "id": "bgMgZVAp8cYV"
      },
      "source": [
        "# <font color='#732c62'>__Move/copy files__"
      ]
    },
    {
      "cell_type": "markdown",
      "metadata": {
        "id": "7b1a4XlGWNRy"
      },
      "source": [
        "## <font color='#226c85'>**Move Files**"
      ]
    },
    {
      "cell_type": "code",
      "metadata": {
        "id": "b45XOe8c8lU_",
        "cellView": "form"
      },
      "source": [
        "Enter_File_Path = \"/content/drive/MyDrive/DriveBuzz/S.h.e.r.s.h.a.a.h (2021) Hindi WEB-DL 720p [FreeDriveMovie.com].mkv\" #@param {type:\"string\"}\n",
        "Destination_Folder_Path = \"/content/drive/Shareddrives/movieload2020\" #@param {type:\"string\"}\n",
        "!mv \"$Enter_File_Path\" \"$Destination_Folder_Path\"\n",
        "from IPython.display import HTML, display\n",
        "import time\n",
        " \n",
        "def progress(value, max=100):\n",
        "    return HTML(\"\"\"\n",
        "        <progress\n",
        "            value='{value}'\n",
        "            max='{max}',\n",
        "            style='width: 60%'\n",
        "        >\n",
        "            {value}\n",
        "        </progress>\n",
        "    \"\"\".format(value=value, max=max))\n",
        " \n",
        "out = display(progress(0, 100), display_id=True)\n",
        "for ii in range(101):\n",
        "    time.sleep(0.02)\n",
        "    out.update(progress(ii, 100))\n",
        "print(\"Copied successfully!\")"
      ],
      "execution_count": null,
      "outputs": []
    },
    {
      "cell_type": "markdown",
      "metadata": {
        "id": "9Ch_vD4QWk0i"
      },
      "source": [
        "## <font color='#73722c'>**Copy Files**"
      ]
    },
    {
      "cell_type": "code",
      "metadata": {
        "id": "Th3_hPyJTo8X",
        "cellView": "form"
      },
      "source": [
        "Enter_File_Path = \"/content/drive/MyDrive/DriveBuzz/S.h.e.r.s.h.a.a.h (2021) Hindi WEB-DL 720p [FreeDriveMovie.com].mkv\" #@param {type:\"string\"}\n",
        "Destination_Folder_Path = \"/content/drive/Shareddrives/movieload2020\" #@param {type:\"string\"}\n",
        "!cp \"$Enter_File_Path\" \"$Destination_Folder_Path\"\n",
        "from IPython.display import HTML, display\n",
        "import time\n",
        " \n",
        "def progress(value, max=100):\n",
        "    return HTML(\"\"\"\n",
        "        <progress\n",
        "            value='{value}'\n",
        "            max='{max}',\n",
        "            style='width: 60%'\n",
        "        >\n",
        "            {value}\n",
        "        </progress>\n",
        "    \"\"\".format(value=value, max=max))\n",
        " \n",
        "out = display(progress(0, 100), display_id=True)\n",
        "for ii in range(101):\n",
        "    time.sleep(0.02)\n",
        "    out.update(progress(ii, 100))\n",
        "print(\"Copied successfully!\")"
      ],
      "execution_count": null,
      "outputs": []
    },
    {
      "cell_type": "markdown",
      "metadata": {
        "id": "CVbs_doDYRBe"
      },
      "source": [
        "# <center><font color='red'>__•••••••••••X•••••••••••__</font></center>"
      ]
    },
    {
      "cell_type": "markdown",
      "metadata": {
        "id": "hi4f8Ba-diVf"
      },
      "source": [
        "#__Unzip/Unrar/Untar Files__"
      ]
    },
    {
      "cell_type": "markdown",
      "metadata": {
        "id": "bAls_UEYfwIX"
      },
      "source": [
        "##__Unzip Files__"
      ]
    },
    {
      "cell_type": "markdown",
      "metadata": {
        "id": "o_zFmom9fWNW"
      },
      "source": [
        "*   First path in below cell - Your Google Drive file location which you want to Unzip\n",
        "*   Second path in below cell - Path where you want to extract the zip file in Google Drive"
      ]
    },
    {
      "cell_type": "code",
      "metadata": {
        "cellView": "form",
        "colab": {
          "background_save": true
        },
        "id": "T1TXMk7mdXFw"
      },
      "source": [
        " \n",
        " \n",
        "#@markdown *Input folder will be copied into the destination folder.*\n",
        "input_folder = \"/content/drive/MyDrive/GDToT/Mohanagar.S1[FreeDriveMovie.com]720p.zip\" #@param {type:\"string\"}\n",
        "destination_folder = \"/content/drive/MyDrive/GDToT\" #@param {type:\"string\"}\n",
        "!unzip \"$input_folder\" -d \"$destination_folder\"\n",
        "print(\"Copied successfully!\")"
      ],
      "execution_count": null,
      "outputs": []
    },
    {
      "cell_type": "markdown",
      "metadata": {
        "id": "IoAshgcf45gs"
      },
      "source": [
        "##__Unrar Files</center>__\n",
        "\n",
        "\n",
        "\n"
      ]
    },
    {
      "cell_type": "markdown",
      "metadata": {
        "id": "Z1Ql6FiDdBYW"
      },
      "source": [
        "*   First path in below cell - Your Google Drive file location which you want to Unrar\n",
        "*   Second path in below cell - Path where you want to extract the rar file in Google Drive\n",
        "\n",
        "*If you want to extract a password protected rar file, then add \"-Y\" flag or Use this command instead of the command in the cell\n",
        "(replace the command with the command in the cell)*\n",
        "\n",
        "* ```\n",
        "!unrar x -Y \"/content/drive/path/input_file_name.rar\" \"/content/drive/path/output_folder/\"\n",
        "```\n",
        "\n",
        "\n",
        "\n"
      ]
    },
    {
      "cell_type": "code",
      "metadata": {
        "cellView": "form",
        "id": "qVmkfyv_V9si",
        "colab": {
          "base_uri": "https://localhost:8080/"
        },
        "outputId": "cb30ab27-5d7b-47b9-e7ee-84fa92c1f6f9"
      },
      "source": [
        "Enter_Rar_File_Link = \"/content/drive/MyDrive/GDToT/Mohanagar.S01E01.Bengali.1080p[FreeDriveMovie.com]Hoichoi.WEBRip.AAC.2.0.HEVC.rar\" #@param {type:\"string\"}\n",
        "Destination_folder = \"/content/drive/MyDrive/GDToT\" #@param {type:\"string\"}\n",
        "!unrar x \"$Enter_Rar_File_Link\" \"$Destination_folder\"\n",
        "print(\"Copied successfully!\")"
      ],
      "execution_count": null,
      "outputs": [
        {
          "output_type": "stream",
          "text": [
            "\n",
            "UNRAR 5.50 freeware      Copyright (c) 1993-2017 Alexander Roshal\n",
            "\n",
            "\n",
            "Extracting from /content/drive/MyDrive/GDToT/Mohanagar.S01E01.Bengali.1080p[FreeDriveMovie.com]Hoichoi.WEBRip.AAC.2.0.HEVC.rar\n",
            "\n",
            "Extracting  /content/drive/MyDrive/GDToT/Mohanagar.S01E01.Bengali.1080p.Hoichoi.WEBRip.AAC.2.0.HEVC[FreeDriveMovie.com].mkv     \b\b\b\b  0%\b\b\b\b  1%\b\b\b\b  2%\b\b\b\b  3%\b\b\b\b  4%\b\b\b\b  5%\b\b\b\b  6%\b\b\b\b  7%\b\b\b\b  8%\b\b\b\b  9%\b\b\b\b 10%\b\b\b\b 11%\b\b\b\b 12%\b\b\b\b 13%\b\b\b\b 14%\b\b\b\b 15%\b\b\b\b\b  OK \n",
            "Extracting  /content/drive/MyDrive/GDToT/Mohanagar.S01E02.Bengali.1080p.Hoichoi.WEBRip.AAC.2.0.HEVC[FreeDriveMovie.com].mkv     \b\b\b\b 15%\b\b\b\b 16%\b\b\b\b 17%\b\b\b\b 18%\b\b\b\b 19%\b\b\b\b 20%\b\b\b\b 21%\b\b\b\b 22%\b\b\b\b 23%\b\b\b\b 24%\b\b\b\b\b  OK \n",
            "Extracting  /content/drive/MyDrive/GDToT/Mohanagar.S01E03.Bengali.1080p.Hoichoi.WEBRip.AAC.2.0.HEVC[FreeDriveMovie.com].mkv     \b\b\b\b 24%\b\b\b\b 25%\b\b\b\b 26%\b\b\b\b 27%\b\b\b\b 28%\b\b\b\b 29%\b\b\b\b 30%\b\b\b\b 31%\b\b\b\b 32%\b\b\b\b 33%\b\b\b\b 34%\b\b\b\b 35%\b\b\b\b 36%\b\b\b\b 37%\b\b\b\b\b  OK \n",
            "Extracting  /content/drive/MyDrive/GDToT/Mohanagar.S01E04.Bengali.1080p.Hoichoi.WEBRip.AAC.2.0.HEVC[FreeDriveMovie.com].mkv     \b\b\b\b 37%\b\b\b\b 38%\b\b\b\b 39%\b\b\b\b 40%\b\b\b\b 41%\b\b\b\b 42%\b\b\b\b 43%\b\b\b\b 44%\b\b\b\b 45%\b\b\b\b 46%\b\b\b\b 47%\b\b\b\b 48%\b\b\b\b 49%\b\b\b\b 50%\b\b\b\b 51%\b\b\b\b\b  OK \n",
            "Extracting  /content/drive/MyDrive/GDToT/Mohanagar.S01E05.Bengali.1080p.Hoichoi.WEBRip.AAC.2.0.HEVC[FreeDriveMovie.com].mkv     \b\b\b\b 51%\b\b\b\b 52%\b\b\b\b 53%\b\b\b\b 54%\b\b\b\b 55%\b\b\b\b 56%\b\b\b\b 57%\b\b\b\b 58%\b\b\b\b 59%\b\b\b\b 60%\b\b\b\b 61%\b\b\b\b 62%\b\b\b\b 63%\b\b\b\b 64%\b\b\b\b\b  OK \n",
            "Extracting  /content/drive/MyDrive/GDToT/Mohanagar.S01E06.Bengali.1080p.Hoichoi.WEBRip.AAC.2.0.HEVC[FreeDriveMovie.com].mkv     \b\b\b\b 64%\b\b\b\b 65%\b\b\b\b 66%\b\b\b\b 67%\b\b\b\b 68%\b\b\b\b 69%\b\b\b\b 70%\b\b\b\b 71%\b\b\b\b 72%\b\b\b\b 73%\b\b\b\b 74%\b\b\b\b 75%\b\b\b\b 76%\b\b\b\b\b  OK \n",
            "Extracting  /content/drive/MyDrive/GDToT/Mohanagar.S01E07.Bengali.1080p.Hoichoi.WEBRip.AAC.2.0.HEVC[FreeDriveMovie.com].mkv     \b\b\b\b 76%\b\b\b\b 77%\b\b\b\b 78%\b\b\b\b 79%\b\b\b\b 80%\b\b\b\b 81%\b\b\b\b 82%\b\b\b\b 83%\b\b\b\b 84%\b\b\b\b 85%\b\b\b\b 86%\b\b\b\b 87%\b\b\b\b 88%\b\b\b\b 89%\b\b\b\b\b  OK \n",
            "Extracting  /content/drive/MyDrive/GDToT/Mohanagar.S01E08.Bengali.1080p.Hoichoi.WEBRip.AAC.2.0.HEVC[FreeDriveMovie.com].mkv     \b\b\b\b 89%\b\b\b\b 90%\b\b\b\b 91%\b\b\b\b 92%\b\b\b\b 93%\b\b\b\b 94%\b\b\b\b 95%\b\b\b\b 96%\b\b\b\b 97%\b\b\b\b 98%\b\b\b\b 99%\b\b\b\b\b  OK \n",
            "All OK\n",
            "Copied successfully!\n"
          ],
          "name": "stdout"
        }
      ]
    },
    {
      "cell_type": "markdown",
      "metadata": {
        "id": "h_wQIMPcznZZ"
      },
      "source": [
        "<center> <h1><b>With Password</b></h1> </center>"
      ]
    },
    {
      "cell_type": "code",
      "metadata": {
        "cellView": "form",
        "id": "qdP2tWJ0zUUd"
      },
      "source": [
        "Enter_Rar_File_Link = \"/content/drive/MyDrive/Colab.rar\" #@param {type:\"string\"}\n",
        "Destination_folder = \"/content/drive/MyDrive/DriveBuzz\" #@param {type:\"string\"}\n",
        "!unrar x -Y \"$Enter_Rar_File_Link\" \"$Destination_folder\"\n",
        "print(\"Copied successfully!\")"
      ],
      "execution_count": null,
      "outputs": []
    },
    {
      "cell_type": "markdown",
      "metadata": {
        "id": "o1PFiGyMAMvg"
      },
      "source": [
        "##__Untar Files__\n",
        "\n"
      ]
    },
    {
      "cell_type": "markdown",
      "metadata": {
        "id": "sBWJzqQtAMvg"
      },
      "source": [
        "*   First path in below cell - Your Google Drive file location which you want to Untar\n",
        "*   Second path in below cell - Path where you want to extract the tar file in Google Drive\n",
        "\n",
        " *__Flags__*\n",
        "\n",
        " * -x : Extract a tar ball.\n",
        " * -v : Verbose output or show progress while extracting files.\n",
        " * -f : Specify an archive or a tarball filename.\n",
        " * -C : Specify a different directory to extract\n",
        " * -z : Decompress and extract the contents of the compressed archive created by gzip program (tar.gz extension).\n",
        " * -j : Decompress and extract the contents of the compressed archive created by bzip2 program (tar.bz2 extension)."
      ]
    },
    {
      "cell_type": "code",
      "metadata": {
        "cellView": "both",
        "colab": {
          "background_save": true,
          "base_uri": "https://localhost:8080/"
        },
        "id": "EKjIowyWAMvh",
        "outputId": "4010fe92-f014-44cb-df34-b3e767b93e73"
      },
      "source": [
        "!tar -xvf \"/content/drive/MyDrive/GDToT/Morichika S01 2021 720P[FreeDriveMovie.com]WEBDL h264.tar\" -C \"/content/drive/MyDrive/GDToT\"     #[run this cell to extract tar files]"
      ],
      "execution_count": null,
      "outputs": [
        {
          "name": "stdout",
          "output_type": "stream",
          "text": [
            "Morichika S01 2021 720P[FreeDriveMovie.com]WEBDL h264/\n",
            "Morichika S01 2021 720P[FreeDriveMovie.com]WEBDL h264/Morichika S01E01 2021 720P[FreeDriveMovie.com]WEBDL h264.mp4\n",
            "Morichika S01 2021 720P[FreeDriveMovie.com]WEBDL h264/Morichika S01E02 2021 720P[FreeDriveMovie.com]WEBDL h264.mp4\n",
            "Morichika S01 2021 720P[FreeDriveMovie.com]WEBDL h264/Morichika S01E03 2021 720P[FreeDriveMovie.com]WEBDL h264.mp4\n",
            "Morichika S01 2021 720P[FreeDriveMovie.com]WEBDL h264/Morichika S01E04 2021 720P[FreeDriveMovie.com]WEBDL h264.mp4\n",
            "Morichika S01 2021 720P[FreeDriveMovie.com]WEBDL h264/Morichika S01E05 2021 720P[FreeDriveMovie.com]WEBDL h264.mp4\n",
            "Morichika S01 2021 720P[FreeDriveMovie.com]WEBDL h264/Morichika S01E06 2021 720P[FreeDriveMovie.com]WEBDL h264.mp4\n",
            "Morichika S01 2021 720P[FreeDriveMovie.com]WEBDL h264/Morichika S01E07 2021 720P[FreeDriveMovie.com]WEBDL h264.mp4\n",
            "Morichika S01 2021 720P[FreeDriveMovie.com]WEBDL h264/Morichika S01E08 2021 720P[FreeDriveMovie.com]WEBDL h264.mp4\n"
          ]
        }
      ]
    },
    {
      "cell_type": "code",
      "metadata": {
        "id": "YfSkw7IFH2pl"
      },
      "source": [
        "!tar -xzvf \"/content/drive/path/input_file_name.tar.gz\" -C \"/content/drive/path/output_folder/\"     #[run this cell to extract tar.gz files]"
      ],
      "execution_count": null,
      "outputs": []
    },
    {
      "cell_type": "code",
      "metadata": {
        "id": "tVaZLH-hH54z"
      },
      "source": [
        "!tar -xjvf \"/content/drive/path/input_file_name.tar.bz2\" -C \"/content/drive/path/output_folder/\"     #[run this cell to extract tar.bz2 files]"
      ],
      "execution_count": null,
      "outputs": []
    },
    {
      "cell_type": "markdown",
      "metadata": {
        "id": "9pEUVtA4YeXV"
      },
      "source": [
        "# <center><font color='red'>__•••••••••••X•••••••••••__</font></center>"
      ]
    },
    {
      "cell_type": "markdown",
      "metadata": {
        "id": "mOnUdLJqVaYA"
      },
      "source": [
        "#__Zip/Rar/Tar Files/Folders__"
      ]
    },
    {
      "cell_type": "markdown",
      "metadata": {
        "id": "IzjF205BK-Wh"
      },
      "source": [
        "##__Zip Files/Folders__"
      ]
    },
    {
      "cell_type": "markdown",
      "metadata": {
        "id": "zzDxxVgUN6qg"
      },
      "source": [
        "*   First path in below cell - Your Zip File output Name (Don't need to Put .zip at the end. It will take it automatically)\n",
        "*   Second path in below cell - Google Drive file location of the files/folder which you want to Zip"
      ]
    },
    {
      "cell_type": "code",
      "metadata": {
        "cellView": "form",
        "id": "PLBEJNwBLFG_"
      },
      "source": [
        " \n",
        "#@markdown **Enter File_Path/Name.Zip → Source_Path**\n",
        "Enter_Name = \"/content/drive/MyDrive/DriveBuzz/JavaScript Tutorial\" #@param {type:\"string\"}\n",
        "Destination_folder = \"/content/drive/MyDrive/GDToT/YT Downloads\" #@param {type:\"string\"}\n",
        "!zip -r \"$Enter_Name\" \"$Destination_folder\"\n",
        "print(\"Zipped successfully!\")"
      ],
      "execution_count": null,
      "outputs": []
    },
    {
      "cell_type": "markdown",
      "metadata": {
        "id": "BjYXYIk0VaYE"
      },
      "source": [
        "##__Rar Files/Folders__"
      ]
    },
    {
      "cell_type": "code",
      "metadata": {
        "id": "lNeNaDMSWHFI"
      },
      "source": [
        "# <= Click this cell to rar the folder\n",
        " \n",
        "!apt-get install rar"
      ],
      "execution_count": null,
      "outputs": []
    },
    {
      "cell_type": "markdown",
      "metadata": {
        "id": "G24N0obDVaYE"
      },
      "source": [
        "*   First path in below cell - Your Rar File output Name (do not put .rar at the end. It will take it automatically)\n",
        "*   Second path in below cell - Google Drive file location of the files/folder which you want to Rar\n",
        " \n",
        "*If you want to create a password protected rar file, then add \"-p\" flag or Use this command instead of the command in in the cell.\n",
        "(replace the command with the command in the cell) After running the cell, it will ask you to provide the password*\n",
        " \n",
        "* ```\n",
        "!rar a -p \"/content/drive/path/output_file_name\" \"/content/drive/path/input_file_or_folder\"\n",
        "```"
      ]
    },
    {
      "cell_type": "code",
      "metadata": {
        "cellView": "form",
        "id": "bVMBS23Pn9iO"
      },
      "source": [
        "#@markdown **Enter File_Path/Name → Source_Path**\n",
        "Enter_Name = \"JavaScript Tutorial\" #@param {type:\"string\"}\n",
        "Destination_folder = \"/content/drive/MyDrive/GDToT/YT Downloads\" #@param {type:\"string\"}\n",
        "!rar a \"$Enter_Name\" \"$Destination_folder\""
      ],
      "execution_count": null,
      "outputs": []
    },
    {
      "cell_type": "markdown",
      "metadata": {
        "id": "Dm58cAVSAFbr"
      },
      "source": [
        "##__Tar Files/Folders__\n",
        "\n"
      ]
    },
    {
      "cell_type": "markdown",
      "metadata": {
        "id": "9aBzSi69AFbt"
      },
      "source": [
        "*   First path in below cell - Your Tar output filename\n",
        "*   Second path in below cell - Google Drive file location of the files which you want to Tar\n",
        "\n",
        " *__Flags__*\n",
        "\n",
        " * -c : Create a new archive\n",
        " * -v : Verbose output\n",
        " * -f : Use the given archive file (name.extention)\n",
        " * -z : Filter the archive through gzip\n",
        " * -j : Filter the archive through bzip2"
      ]
    },
    {
      "cell_type": "code",
      "metadata": {
        "cellView": "both",
        "id": "EjAf_hxSAFbt"
      },
      "source": [
        "!tar -cvf \"/content/drive/path/output_file_name.tar\" \"/content/drive/path/input_file_or_folder\"     #[run this cell to create tar files]"
      ],
      "execution_count": null,
      "outputs": []
    },
    {
      "cell_type": "code",
      "metadata": {
        "id": "0n-O8xGADZ2o"
      },
      "source": [
        "!tar -czvf \"/content/drive/path/output_file_name.tar.gz\" \"/content/drive/path/input_file_or_folder\"     #[run this cell to create tar.gz files]"
      ],
      "execution_count": null,
      "outputs": []
    },
    {
      "cell_type": "code",
      "metadata": {
        "id": "qjdZ4cTbD8qx"
      },
      "source": [
        "!tar -cjvf \"/content/drive/path/output_file_name.tar.bz2\" \"/content/drive/path/input_file_or_folder\"      #[run this cell to create tar.bz2 files]"
      ],
      "execution_count": null,
      "outputs": []
    },
    {
      "cell_type": "markdown",
      "metadata": {
        "id": "mUnldBYjp-sa"
      },
      "source": [
        "# 📚 Follow me on GitHub for more: [_@cheems_](https://github.com/cheems)\n",
        "# 📦 Repo: [Github](https://github.com/cheems/compress-decompress-in-Google-Drive)"
      ]
    }
  ]
}